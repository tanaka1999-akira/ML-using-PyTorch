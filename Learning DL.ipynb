{
 "cells": [
  {
   "cell_type": "markdown",
   "id": "e5480b13",
   "metadata": {},
   "source": [
    "# Linear Regression"
   ]
  },
  {
   "cell_type": "markdown",
   "id": "cd38f3e6",
   "metadata": {},
   "source": [
    "## predict y with x"
   ]
  },
  {
   "cell_type": "code",
   "execution_count": 164,
   "id": "848015b9",
   "metadata": {},
   "outputs": [],
   "source": [
    "import torch\n",
    "import matplotlib as plt\n",
    "from matplotlib import pyplot"
   ]
  },
  {
   "cell_type": "code",
   "execution_count": 165,
   "id": "c3eff24a",
   "metadata": {},
   "outputs": [
    {
     "data": {
      "text/plain": [
       "torch.Size([1000, 1])"
      ]
     },
     "execution_count": 165,
     "metadata": {},
     "output_type": "execute_result"
    }
   ],
   "source": [
    "#The ground truth are [w,b] = [2,3]\n",
    "#The linear relation is y = w*x + b\n",
    "\n",
    "#generate data with noise\n",
    "w = torch.tensor([2],dtype=torch.float32)\n",
    "b = torch.tensor([3],dtype=torch.float32)\n",
    "\n",
    "#create x1,x2, and y with noise\n",
    "\n",
    "x = torch.randn(1000,1)\n",
    "noise = torch.randn(1000,1) * 0.2\n",
    "y = torch.matmul(x,w).reshape(1000,1) + b + noise\n",
    "y.shape"
   ]
  },
  {
   "cell_type": "code",
   "execution_count": 221,
   "id": "a7482aff",
   "metadata": {},
   "outputs": [],
   "source": [
    "#divide data into train and test\n",
    "x_train = x[0:500]\n",
    "x_test = x[500:1000]\n",
    "y_train = y[0:500]\n",
    "y_test = y[500:1000]"
   ]
  },
  {
   "cell_type": "code",
   "execution_count": 234,
   "id": "5048fad0",
   "metadata": {},
   "outputs": [],
   "source": [
    "#model\n",
    "\n",
    "model = torch.nn.Linear(1,1) #initial random model\n",
    "y_pred = model(x) #initial predict"
   ]
  },
  {
   "cell_type": "code",
   "execution_count": 235,
   "id": "f2f1d38a",
   "metadata": {},
   "outputs": [
    {
     "data": {
      "text/plain": [
       "(Parameter containing:\n",
       " tensor([[0.1431]], requires_grad=True),\n",
       " Parameter containing:\n",
       " tensor([-0.3183], requires_grad=True))"
      ]
     },
     "execution_count": 235,
     "metadata": {},
     "output_type": "execute_result"
    }
   ],
   "source": [
    "model.weight, model.bias"
   ]
  },
  {
   "cell_type": "code",
   "execution_count": 236,
   "id": "ffe7bfdc",
   "metadata": {},
   "outputs": [
    {
     "data": {
      "text/plain": [
       "<matplotlib.collections.PathCollection at 0x1f28e2febc0>"
      ]
     },
     "execution_count": 236,
     "metadata": {},
     "output_type": "execute_result"
    },
    {
     "data": {
      "image/png": "[encoded data removed]",
      "text/plain": [
       "<Figure size 640x480 with 1 Axes>"
      ]
     },
     "metadata": {},
     "output_type": "display_data"
    }
   ],
   "source": [
    "fig, ax = pyplot.subplots()\n",
    "ax.scatter(x,y_pred.detach(), c='red') #predict\n",
    "ax.scatter(x,y, c='blue') #ground truth"
   ]
  },
  {
   "cell_type": "code",
   "execution_count": 237,
   "id": "2f7eb021",
   "metadata": {},
   "outputs": [
    {
     "name": "stdout",
     "output_type": "stream",
     "text": [
      "tensor(16.1758, grad_fn=<MseLossBackward0>)\n",
      "epoch 0, loss 16.175819396972656\n",
      "tensor(9.2340, grad_fn=<MseLossBackward0>)\n",
      "epoch 1, loss 9.233994483947754\n",
      "tensor(6.0306, grad_fn=<MseLossBackward0>)\n",
      "epoch 2, loss 6.030632972717285\n",
      "tensor(3.6969, grad_fn=<MseLossBackward0>)\n",
      "epoch 3, loss 3.6968767642974854\n",
      "tensor(2.3451, grad_fn=<MseLossBackward0>)\n",
      "epoch 4, loss 2.3451087474823\n",
      "tensor(1.4708, grad_fn=<MseLossBackward0>)\n",
      "epoch 5, loss 1.470760703086853\n",
      "tensor(0.9308, grad_fn=<MseLossBackward0>)\n",
      "epoch 6, loss 0.9307724833488464\n",
      "tensor(0.5962, grad_fn=<MseLossBackward0>)\n",
      "epoch 7, loss 0.5961584448814392\n",
      "tensor(0.4044, grad_fn=<MseLossBackward0>)\n",
      "epoch 8, loss 0.4044337868690491\n",
      "tensor(0.2623, grad_fn=<MseLossBackward0>)\n",
      "epoch 9, loss 0.2622961103916168\n",
      "tensor(0.1914, grad_fn=<MseLossBackward0>)\n",
      "epoch 10, loss 0.19137217104434967\n",
      "tensor(0.1407, grad_fn=<MseLossBackward0>)\n",
      "epoch 11, loss 0.14072909951210022\n",
      "tensor(0.1043, grad_fn=<MseLossBackward0>)\n",
      "epoch 12, loss 0.10430654883384705\n",
      "tensor(0.0833, grad_fn=<MseLossBackward0>)\n",
      "epoch 13, loss 0.08332554996013641\n",
      "tensor(0.0695, grad_fn=<MseLossBackward0>)\n",
      "epoch 14, loss 0.06948087364435196\n",
      "tensor(0.0591, grad_fn=<MseLossBackward0>)\n",
      "epoch 15, loss 0.05912483111023903\n",
      "tensor(0.0538, grad_fn=<MseLossBackward0>)\n",
      "epoch 16, loss 0.05376092344522476\n",
      "tensor(0.0480, grad_fn=<MseLossBackward0>)\n",
      "epoch 17, loss 0.04802260920405388\n",
      "tensor(0.0448, grad_fn=<MseLossBackward0>)\n",
      "epoch 18, loss 0.044800348579883575\n",
      "tensor(0.0433, grad_fn=<MseLossBackward0>)\n",
      "epoch 19, loss 0.04331252723932266\n"
     ]
    }
   ],
   "source": [
    "#train process\n",
    "\n",
    "criterion = torch.nn.MSELoss()\n",
    "optimizer = torch.optim.SGD(model.parameters(),lr=0.1)\n",
    "epochs = 20\n",
    "\n",
    "for epoch in range(epochs):\n",
    "    \n",
    "    input = x_train[epoch:epoch+50]\n",
    "    \n",
    "    optimizer.zero_grad()\n",
    "    output = model(input)\n",
    "    \n",
    "    loss = criterion(output, y_train[epoch:epoch+50])\n",
    "    print(loss)\n",
    "    \n",
    "    loss.backward()\n",
    "    optimizer.step()\n",
    "    \n",
    "    print('epoch {}, loss {}'.format(epoch, loss.item()))"
   ]
  },
  {
   "cell_type": "code",
   "execution_count": 238,
   "id": "78d78d72",
   "metadata": {},
   "outputs": [
    {
     "data": {
      "text/plain": [
       "(Parameter containing:\n",
       " tensor([[2.0214]], requires_grad=True),\n",
       " Parameter containing:\n",
       " tensor([2.9855], requires_grad=True))"
      ]
     },
     "execution_count": 238,
     "metadata": {},
     "output_type": "execute_result"
    }
   ],
   "source": [
    "model.weight, model.bias"
   ]
  },
  {
   "cell_type": "code",
   "execution_count": 239,
   "id": "3b890752",
   "metadata": {},
   "outputs": [],
   "source": [
    "y_test_pred = torch.matmul(x_test,model.weight.detach()) + model.bias.detach()"
   ]
  },
  {
   "cell_type": "code",
   "execution_count": 240,
   "id": "0ee0eb20",
   "metadata": {},
   "outputs": [
    {
     "data": {
      "text/plain": [
       "<matplotlib.collections.PathCollection at 0x1f28e2a9090>"
      ]
     },
     "execution_count": 240,
     "metadata": {},
     "output_type": "execute_result"
    },
    {
     "data": {
      "image/png": "[encoded data removed]",
      "text/plain": [
       "<Figure size 640x480 with 1 Axes>"
      ]
     },
     "metadata": {},
     "output_type": "display_data"
    }
   ],
   "source": [
    "fig, ax = pyplot.subplots()\n",
    "ax.scatter(x_test,y_test_pred, c='red') #predict\n",
    "ax.scatter(x_test,y_test, c='blue') #ground truth"
   ]
  },
  {
   "cell_type": "code",
   "execution_count": null,
   "id": "262d6d5d",
   "metadata": {},
   "outputs": [],
   "source": []
  }
 ],
 "metadata": {
  "kernelspec": {
   "display_name": "Python 3 (ipykernel)",
   "language": "python",
   "name": "python3"
  },
  "language_info": {
   "codemirror_mode": {
    "name": "ipython",
    "version": 3
   },
   "file_extension": ".py",
   "mimetype": "text/x-python",
   "name": "python",
   "nbconvert_exporter": "python",
   "pygments_lexer": "ipython3",
   "version": "3.10.10"
  }
 },
 "nbformat": 4,
 "nbformat_minor": 5
}
