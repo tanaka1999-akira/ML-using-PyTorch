{
 "cells": [
  {
   "cell_type": "code",
   "execution_count": 162,
   "id": "b5525c54",
   "metadata": {},
   "outputs": [],
   "source": [
    "import matplotlib.pyplot as plt\n",
    "import torch\n",
    "import torchvision\n",
    "import time"
   ]
  },
  {
   "cell_type": "code",
   "execution_count": 163,
   "id": "43041556",
   "metadata": {},
   "outputs": [],
   "source": [
    "#hyper-parameters\n",
    "DEVICE = torch.device(\"cuda\" if torch.cuda.is_available() else \"cpu\")\n",
    "BATCH_SIZE = 512\n",
    "LR = 1"
   ]
  },
  {
   "cell_type": "code",
   "execution_count": 164,
   "id": "59dfe96b",
   "metadata": {},
   "outputs": [
    {
     "data": {
      "text/plain": [
       "(True, 'NVIDIA Quadro GV100', 2)"
      ]
     },
     "execution_count": 164,
     "metadata": {},
     "output_type": "execute_result"
    }
   ],
   "source": [
    "torch.cuda.is_available(),torch.cuda.get_device_name(),torch.cuda.device_count()"
   ]
  },
  {
   "cell_type": "code",
   "execution_count": 165,
   "id": "f21228f7",
   "metadata": {},
   "outputs": [
    {
     "name": "stdout",
     "output_type": "stream",
     "text": [
      "118\n",
      "20\n"
     ]
    }
   ],
   "source": [
    "train_loader = torch.utils.data.DataLoader(\n",
    "        torchvision.datasets.MNIST('data', train=True, download=True, \n",
    "                           transform=torchvision.transforms.Compose([\n",
    "                           torchvision.transforms.ToTensor(),\n",
    "                           torchvision.transforms.Normalize((0.1307,), (0.3081,))\n",
    "                       ])),\n",
    "        batch_size=BATCH_SIZE, shuffle=True)\n",
    "print(len(train_loader)) #the size of dataset, 60000 of images\n",
    "\n",
    "\n",
    "\n",
    "#load test data\n",
    "test_loader = torch.utils.data.DataLoader(\n",
    "        torchvision.datasets.MNIST('data', train=False, \n",
    "                           transform=torchvision.transforms.Compose([\n",
    "                           torchvision.transforms.ToTensor(),\n",
    "                           torchvision.transforms.Normalize((0.1307,), (0.3081,))\n",
    "                       ])),\n",
    "        batch_size=BATCH_SIZE, shuffle=True)\n",
    "print(len(test_loader)) #size of test data , 10000 images"
   ]
  },
  {
   "cell_type": "code",
   "execution_count": 166,
   "id": "46aaedf8",
   "metadata": {},
   "outputs": [
    {
     "data": {
      "image/png": "[encoded data removed]",
      "text/plain": [
       "<Figure size 640x480 with 6 Axes>"
      ]
     },
     "metadata": {},
     "output_type": "display_data"
    }
   ],
   "source": [
    "#have a look on data\n",
    "\n",
    "examples = enumerate(test_loader)\n",
    "id, (image,label) = next(examples)\n",
    "#examples is a batch of images, \n",
    "#when BATCH_SIZE == 1:\n",
    "#example[0] is a order signed by enumerate(), \n",
    "#example[1][0] is the tensor of image,\n",
    "#example[1][1] is the label of the image 0~9\n",
    "\n",
    "fig = plt.figure()\n",
    "for i in range(6):\n",
    "  plt.subplot(2,3,i+1)\n",
    "  plt.tight_layout()\n",
    "  plt.imshow(image[0][0], cmap='gray', interpolation='none')\n",
    "  plt.title(\"Ground Truth: {}\".format(label[0]))\n",
    "  plt.xticks([])\n",
    "  plt.yticks([])\n",
    "  id, (image,label) = next(examples)"
   ]
  },
  {
   "cell_type": "code",
   "execution_count": 167,
   "id": "013f2fe5",
   "metadata": {},
   "outputs": [
    {
     "data": {
      "text/plain": [
       "Sequential(\n",
       "  (0): Linear(in_features=784, out_features=800, bias=True)\n",
       "  (1): ReLU()\n",
       "  (2): Linear(in_features=800, out_features=50, bias=True)\n",
       "  (3): ReLU()\n",
       "  (4): Linear(in_features=50, out_features=10, bias=True)\n",
       "  (5): Softmax(dim=None)\n",
       ")"
      ]
     },
     "execution_count": 167,
     "metadata": {},
     "output_type": "execute_result"
    }
   ],
   "source": [
    "# model\n",
    "model = torch.nn.Sequential(\n",
    "    \n",
    "    torch.nn.Linear(784,800),\n",
    "    torch.nn.ReLU(),\n",
    "    torch.nn.Linear(800,50),\n",
    "    torch.nn.ReLU(),\n",
    "    torch.nn.Linear(50,10),\n",
    "    torch.nn.Softmax(),\n",
    ")\n",
    "model.to(DEVICE)"
   ]
  },
  {
   "cell_type": "code",
   "execution_count": 168,
   "id": "71e80f6e",
   "metadata": {},
   "outputs": [],
   "source": [
    "# loss function & optimizater\n",
    "loss_fn = torch.nn.NLLLoss() #nll_loss for classification\n",
    "optimizer = torch.optim.SGD(model.parameters(), lr=LR)"
   ]
  },
  {
   "cell_type": "code",
   "execution_count": 169,
   "id": "0f22db6a",
   "metadata": {},
   "outputs": [
    {
     "name": "stdout",
     "output_type": "stream",
     "text": [
      "accuracy 0.0799 time 1.508430004119873 datasize 10000 correctness 799\n"
     ]
    },
    {
     "data": {
      "text/plain": [
       "(0.0799, 1.508430004119873)"
      ]
     },
     "execution_count": 169,
     "metadata": {},
     "output_type": "execute_result"
    }
   ],
   "source": [
    "# Accuracy check round 1(before training)\n",
    "start = time.time()\n",
    "\n",
    "correct_counter = 0 # count the number of right prediction\n",
    "data_counter = 0 # count the number of data\n",
    "\n",
    "for image,label in test_loader:#the size of image and label depends on BATCH_SIZE\n",
    "    \n",
    "    image = image.reshape(-1,784) #change image's shape so each row is a image \n",
    "\n",
    "    output = model(image.cuda())\n",
    "    \n",
    "    label_list = label.tolist()# turn label to list for comparison with prediction\n",
    "    \n",
    "    data_counter += len(label_list) # the number of test datas\n",
    "    \n",
    "    for i in range(output.shape[0]): # =512\n",
    "        if int(torch.argmax(output[i])) == label_list[i]: # prediction = label\n",
    "            correct_counter += 1 \n",
    "\n",
    "end = time.time()\n",
    "accuracy = correct_counter/data_counter\n",
    "print('accuracy {} time {} datasize {} correctness {}'\n",
    "      .format(accuracy, end-start, data_counter, correct_counter))\n",
    "accuracy, end-start, "
   ]
  },
  {
   "cell_type": "code",
   "execution_count": 170,
   "id": "16d1cf7c",
   "metadata": {},
   "outputs": [
    {
     "name": "stdout",
     "output_type": "stream",
     "text": [
      "loss -0.10017473995685577\n",
      "loss -0.10306074470281601\n",
      "loss -0.10953407734632492\n",
      "loss -0.11705583333969116\n",
      "loss -0.12639132142066956\n",
      "loss -0.13779594004154205\n",
      "loss -0.1541164368391037\n",
      "loss -0.18542949855327606\n",
      "loss -0.23296524584293365\n",
      "loss -0.2936588227748871\n",
      "loss -0.35106050968170166\n",
      "loss -0.416632741689682\n",
      "loss -0.4371362626552582\n",
      "loss -0.373837947845459\n",
      "loss -0.335959792137146\n",
      "loss -0.4729582369327545\n",
      "loss -0.46293318271636963\n",
      "loss -0.47461315989494324\n",
      "loss -0.5020373463630676\n",
      "loss -0.44145163893699646\n",
      "loss -0.5169680714607239\n",
      "loss -0.5462380051612854\n",
      "loss -0.5378059148788452\n",
      "loss -0.48301634192466736\n",
      "loss -0.556415855884552\n",
      "loss -0.5340213179588318\n",
      "loss -0.5626162886619568\n",
      "loss -0.6209969520568848\n",
      "loss -0.63551265001297\n",
      "loss -0.6514523029327393\n",
      "loss -0.6502425074577332\n",
      "loss -0.692909836769104\n",
      "loss -0.6778972148895264\n",
      "loss -0.7033178806304932\n",
      "loss -0.7137466073036194\n",
      "loss -0.7123806476593018\n",
      "loss -0.7085794806480408\n",
      "loss -0.7143822908401489\n",
      "loss -0.7480090260505676\n",
      "loss -0.7408214807510376\n",
      "loss -0.8249295353889465\n",
      "loss -0.7740998268127441\n",
      "loss -0.7451179623603821\n",
      "loss -0.663462221622467\n",
      "loss -0.7539633512496948\n",
      "loss -0.795398473739624\n",
      "loss -0.8155757188796997\n",
      "loss -0.8258520364761353\n",
      "loss -0.8122619390487671\n",
      "loss -0.814890444278717\n",
      "loss -0.7378966212272644\n",
      "loss -0.783390998840332\n",
      "loss -0.8045744299888611\n",
      "loss -0.816932737827301\n",
      "loss -0.8193413615226746\n",
      "loss -0.7901349067687988\n",
      "loss -0.8153939247131348\n",
      "loss -0.8231645822525024\n",
      "loss -0.7977416515350342\n",
      "loss -0.8000114560127258\n",
      "loss -0.8044270873069763\n",
      "loss -0.8324049711227417\n",
      "loss -0.8544459342956543\n",
      "loss -0.8252251148223877\n",
      "loss -0.8476650714874268\n",
      "loss -0.8570051193237305\n",
      "loss -0.8804718255996704\n",
      "loss -0.8665914535522461\n",
      "loss -0.868911623954773\n",
      "loss -0.8473021388053894\n",
      "loss -0.8568504452705383\n",
      "loss -0.8471179604530334\n",
      "loss -0.8383494019508362\n",
      "loss -0.876433253288269\n",
      "loss -0.8810616731643677\n",
      "loss -0.8607052564620972\n",
      "loss -0.8864594101905823\n",
      "loss -0.892108678817749\n",
      "loss -0.8708556294441223\n",
      "loss -0.8798174262046814\n",
      "loss -0.8849482536315918\n",
      "loss -0.9093145728111267\n",
      "loss -0.8678587079048157\n",
      "loss -0.8799022436141968\n",
      "loss -0.8924059271812439\n",
      "loss -0.8894912600517273\n",
      "loss -0.8375800848007202\n",
      "loss -0.8812819123268127\n",
      "loss -0.8654046058654785\n",
      "loss -0.8715766668319702\n",
      "loss -0.8905030488967896\n",
      "loss -0.8883167505264282\n",
      "loss -0.9075517058372498\n",
      "loss -0.8931201696395874\n",
      "loss -0.8763992190361023\n",
      "loss -0.8802295923233032\n",
      "loss -0.9057784676551819\n",
      "loss -0.9053785800933838\n",
      "loss -0.8856121897697449\n",
      "loss -0.9045749306678772\n",
      "loss -0.896115243434906\n",
      "loss -0.9050556421279907\n",
      "loss -0.8895931839942932\n",
      "loss -0.9092801809310913\n",
      "loss -0.9133138060569763\n",
      "loss -0.8881394267082214\n",
      "loss -0.9086461663246155\n",
      "loss -0.89591383934021\n",
      "loss -0.9066662192344666\n",
      "loss -0.87510085105896\n",
      "loss -0.8759816884994507\n",
      "loss -0.8880673050880432\n",
      "loss -0.9270934462547302\n",
      "loss -0.9195789694786072\n",
      "loss -0.8815984129905701\n",
      "loss -0.9039714336395264\n",
      "loss -0.8998685479164124\n",
      "loss -0.9061503410339355\n"
     ]
    }
   ],
   "source": [
    "#Trainning process\n",
    "loss_list = []\n",
    "\n",
    "for image,label in train_loader:\n",
    "    \n",
    "    optimizer.zero_grad()\n",
    "    \n",
    "    input = image.reshape(-1,784)\n",
    "    output = model(input.cuda())\n",
    "    \n",
    "    loss = loss_fn(output,label.cuda())\n",
    "    loss_list.append(loss.item())\n",
    "    loss.backward()\n",
    "    optimizer.step()\n",
    "    \n",
    "    print('loss {}'.format(loss.item()))"
   ]
  },
  {
   "cell_type": "code",
   "execution_count": 171,
   "id": "c31350f6",
   "metadata": {},
   "outputs": [
    {
     "data": {
      "text/plain": [
       "[<matplotlib.lines.Line2D at 0x2aafe64eaf50>]"
      ]
     },
     "execution_count": 171,
     "metadata": {},
     "output_type": "execute_result"
    },
    {
     "data": {
      "image/png": "[encoded data removed]",
      "text/plain": [
       "<Figure size 640x480 with 1 Axes>"
      ]
     },
     "metadata": {},
     "output_type": "display_data"
    }
   ],
   "source": [
    "plt.plot(list(loss_list))"
   ]
  },
  {
   "cell_type": "code",
   "execution_count": 172,
   "id": "408a5957",
   "metadata": {},
   "outputs": [
    {
     "name": "stdout",
     "output_type": "stream",
     "text": [
      "accuracy 0.9036 time 1.5143282413482666 datasize 10000 correctness 9036\n"
     ]
    },
    {
     "data": {
      "text/plain": [
       "(0.9036, 1.5143282413482666)"
      ]
     },
     "execution_count": 172,
     "metadata": {},
     "output_type": "execute_result"
    }
   ],
   "source": [
    "# Accuracy check round 2(after training)\n",
    "start = time.time()\n",
    "\n",
    "correct_counter = 0 # count the number of right prediction\n",
    "data_counter = 0 # count the number of data\n",
    "\n",
    "for image,label in test_loader:#the size of image and label depends on BATCH_SIZE\n",
    "    \n",
    "    image = image.reshape(-1,784) #change image's shape so each row is a image \n",
    "\n",
    "    output = model(image.cuda())\n",
    "    \n",
    "    label_list = label.tolist()# turn label to list for comparison with prediction\n",
    "    \n",
    "    data_counter += len(label_list) # the number of test datas\n",
    "    \n",
    "    for i in range(output.shape[0]): # =512\n",
    "        if int(torch.argmax(output[i])) == label_list[i]: # prediction = label\n",
    "            correct_counter += 1 \n",
    "\n",
    "end = time.time()\n",
    "accuracy = correct_counter/data_counter\n",
    "print('accuracy {} time {} datasize {} correctness {}'\n",
    "      .format(accuracy, end-start, data_counter, correct_counter))\n",
    "accuracy, end-start, \n",
    "        "
   ]
  },
  {
   "cell_type": "code",
   "execution_count": 173,
   "id": "3a32de5b",
   "metadata": {},
   "outputs": [
    {
     "data": {
      "image/png": "[encoded data removed]",
      "text/plain": [
       "<Figure size 640x480 with 6 Axes>"
      ]
     },
     "metadata": {},
     "output_type": "display_data"
    }
   ],
   "source": [
    "#have a look on performance\n",
    "examples = enumerate(test_loader)\n",
    "id, (image,label) = next(examples)\n",
    "\n",
    "image = image[0:6].reshape(-1,784)\n",
    "output = model(image.cuda())\n",
    "label = label[0:6]\n",
    "pred = []\n",
    "for i in range(len(output)):\n",
    "    pred.append(int(torch.argmax(output[i])))\n",
    "\n",
    "fig = plt.figure()\n",
    "for i in range(6):\n",
    "  plt.subplot(2,3,i+1)\n",
    "#   plt.tight_layout()\n",
    "  plt.imshow(image[i].reshape(28,28), cmap='gray')\n",
    "  plt.title(\"Truth{} pred{}\".format(label[i],pred[i]))\n",
    "  plt.xticks([])\n",
    "  plt.yticks([])"
   ]
  },
  {
   "cell_type": "code",
   "execution_count": null,
   "id": "b9a972c3",
   "metadata": {},
   "outputs": [],
   "source": []
  }
 ],
 "metadata": {
  "kernelspec": {
   "display_name": "Python 3 (ipykernel)",
   "language": "python",
   "name": "python3"
  },
  "language_info": {
   "codemirror_mode": {
    "name": "ipython",
    "version": 3
   },
   "file_extension": ".py",
   "mimetype": "text/x-python",
   "name": "python",
   "nbconvert_exporter": "python",
   "pygments_lexer": "ipython3",
   "version": "3.10.10"
  }
 },
 "nbformat": 4,
 "nbformat_minor": 5
}
