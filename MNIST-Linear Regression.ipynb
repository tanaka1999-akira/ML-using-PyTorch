{
 "cells": [
  {
   "cell_type": "code",
   "execution_count": 3,
   "id": "e4e613ba",
   "metadata": {},
   "outputs": [],
   "source": [
    "import matplotlib.pyplot as plt\n",
    "import torch\n",
    "import torchvision\n",
    "import time"
   ]
  },
  {
   "cell_type": "code",
   "execution_count": 58,
   "id": "73fc5a10",
   "metadata": {},
   "outputs": [],
   "source": [
    "#hyper-parameters\n",
    "DEVICE = torch.device(\"cuda\" if torch.cuda.is_available() else \"cpu\")\n",
    "BATCH_SIZE = 2000\n",
    "LR = 1"
   ]
  },
  {
   "cell_type": "code",
   "execution_count": 59,
   "id": "a94869a8",
   "metadata": {},
   "outputs": [
    {
     "data": {
      "text/plain": [
       "(True, 'NVIDIA Quadro GV100', 2)"
      ]
     },
     "execution_count": 59,
     "metadata": {},
     "output_type": "execute_result"
    }
   ],
   "source": [
    "torch.cuda.is_available(),torch.cuda.get_device_name(),torch.cuda.device_count()"
   ]
  },
  {
   "cell_type": "code",
   "execution_count": 60,
   "id": "565fd20b",
   "metadata": {},
   "outputs": [
    {
     "name": "stdout",
     "output_type": "stream",
     "text": [
      "30\n",
      "5\n"
     ]
    }
   ],
   "source": [
    "train_loader = torch.utils.data.DataLoader(\n",
    "        torchvision.datasets.MNIST('data', train=True, download=True, \n",
    "                           transform=torchvision.transforms.Compose([\n",
    "                           torchvision.transforms.ToTensor(),\n",
    "                           torchvision.transforms.Normalize((0.1307,), (0.3081,))\n",
    "                       ])),\n",
    "        batch_size=BATCH_SIZE, shuffle=True)\n",
    "print(len(train_loader)) #the size of dataset, 60000 of images\n",
    "\n",
    "\n",
    "\n",
    "#load test data\n",
    "test_loader = torch.utils.data.DataLoader(\n",
    "        torchvision.datasets.MNIST('data', train=False, \n",
    "                           transform=torchvision.transforms.Compose([\n",
    "                           torchvision.transforms.ToTensor(),\n",
    "                           torchvision.transforms.Normalize((0.1307,), (0.3081,))\n",
    "                       ])),\n",
    "        batch_size=BATCH_SIZE, shuffle=True)\n",
    "print(len(test_loader)) #size of test data , 10000 images"
   ]
  },
  {
   "cell_type": "code",
   "execution_count": 61,
   "id": "44d81aac",
   "metadata": {},
   "outputs": [
    {
     "data": {
      "text/plain": [
       "Sequential(\n",
       "  (0): Linear(in_features=784, out_features=10, bias=True)\n",
       ")"
      ]
     },
     "execution_count": 61,
     "metadata": {},
     "output_type": "execute_result"
    }
   ],
   "source": [
    "#model  LINEAR REGRESSION\n",
    "model = torch.nn.Sequential(\n",
    "    \n",
    "    torch.nn.Linear(784,10),\n",
    ")\n",
    "model.to(DEVICE)"
   ]
  },
  {
   "cell_type": "code",
   "execution_count": 62,
   "id": "cc6bfca0",
   "metadata": {},
   "outputs": [],
   "source": [
    "# loss function & optimizater\n",
    "loss_fn = torch.nn.NLLLoss() #nll_loss for classification\n",
    "optimizer = torch.optim.SGD(model.parameters(), lr=LR)"
   ]
  },
  {
   "cell_type": "code",
   "execution_count": 63,
   "id": "6db11a98",
   "metadata": {},
   "outputs": [
    {
     "name": "stdout",
     "output_type": "stream",
     "text": [
      "accuracy 0.1021 time 1.516535997390747 datasize 10000 correctness 1021\n"
     ]
    },
    {
     "data": {
      "text/plain": [
       "(0.1021, 1.516535997390747)"
      ]
     },
     "execution_count": 63,
     "metadata": {},
     "output_type": "execute_result"
    }
   ],
   "source": [
    "# Accuracy check round 1(before training)\n",
    "start = time.time()\n",
    "\n",
    "correct_counter = 0 # count the number of right prediction\n",
    "data_counter = 0 # count the number of data\n",
    "\n",
    "for image,label in test_loader:#the size of image and label depends on BATCH_SIZE\n",
    "    \n",
    "    image = image.reshape(-1,784) #change image's shape so each row is a image \n",
    "\n",
    "    output = model(image.cuda())\n",
    "    \n",
    "    label_list = label.tolist()# turn label to list for comparison with prediction\n",
    "    \n",
    "    data_counter += len(label_list) # the number of test datas\n",
    "    \n",
    "    for i in range(output.shape[0]): # =512\n",
    "        if int(torch.argmax(output[i])) == label_list[i]: # prediction = label\n",
    "            correct_counter += 1 \n",
    "\n",
    "end = time.time()\n",
    "accuracy = correct_counter/data_counter\n",
    "print('accuracy {} time {} datasize {} correctness {}'\n",
    "      .format(accuracy, end-start, data_counter, correct_counter))\n",
    "accuracy, end-start, "
   ]
  },
  {
   "cell_type": "code",
   "execution_count": 64,
   "id": "d50b1d35",
   "metadata": {},
   "outputs": [
    {
     "name": "stdout",
     "output_type": "stream",
     "text": [
      "loss -0.08290553838014603\n",
      "loss -34.99876403808594\n",
      "loss -69.23346710205078\n",
      "loss -103.71654510498047\n",
      "loss -139.2195587158203\n",
      "loss -173.33062744140625\n",
      "loss -207.92510986328125\n",
      "loss -242.70755004882812\n",
      "loss -275.9294128417969\n",
      "loss -315.5799255371094\n",
      "loss -348.5542297363281\n",
      "loss -381.8935852050781\n",
      "loss -416.6867370605469\n",
      "loss -447.8599853515625\n",
      "loss -481.7548828125\n",
      "loss -507.7598571777344\n",
      "loss -557.5250854492188\n",
      "loss -584.379150390625\n",
      "loss -622.9807739257812\n",
      "loss -649.9150390625\n",
      "loss -692.0927734375\n",
      "loss -724.3031005859375\n",
      "loss -759.8641967773438\n",
      "loss -789.7433471679688\n",
      "loss -829.8775024414062\n",
      "loss -872.2908325195312\n",
      "loss -896.6239013671875\n",
      "loss -919.31005859375\n",
      "loss -966.361083984375\n",
      "loss -1002.5565795898438\n"
     ]
    }
   ],
   "source": [
    "#Trainning process\n",
    "loss_list = []\n",
    "\n",
    "for image,label in train_loader:\n",
    "    \n",
    "    optimizer.zero_grad()\n",
    "    \n",
    "    input = image.reshape(-1,784)\n",
    "    output = model(input.cuda())\n",
    "    \n",
    "    loss = loss_fn(output,label.cuda())\n",
    "    loss_list.append(loss.item())\n",
    "    loss.backward()\n",
    "    optimizer.step()\n",
    "    \n",
    "    print('loss {}'.format(loss.item()))"
   ]
  },
  {
   "cell_type": "code",
   "execution_count": 65,
   "id": "c6aa8c9f",
   "metadata": {},
   "outputs": [
    {
     "data": {
      "text/plain": [
       "[<matplotlib.lines.Line2D at 0x2ae3e32ed0c0>]"
      ]
     },
     "execution_count": 65,
     "metadata": {},
     "output_type": "execute_result"
    },
    {
     "data": {
      "image/png": "[encoded data removed]",
      "text/plain": [
       "<Figure size 640x480 with 1 Axes>"
      ]
     },
     "metadata": {},
     "output_type": "display_data"
    }
   ],
   "source": [
    "plt.plot(list(loss_list))"
   ]
  },
  {
   "cell_type": "code",
   "execution_count": 66,
   "id": "d488dfd4",
   "metadata": {},
   "outputs": [
    {
     "name": "stdout",
     "output_type": "stream",
     "text": [
      "accuracy 0.7375 time 1.5830318927764893 datasize 10000 correctness 7375\n"
     ]
    },
    {
     "data": {
      "text/plain": [
       "(0.7375, 1.5830318927764893)"
      ]
     },
     "execution_count": 66,
     "metadata": {},
     "output_type": "execute_result"
    }
   ],
   "source": [
    "# Accuracy check round 2(after training)\n",
    "start = time.time()\n",
    "\n",
    "correct_counter = 0 # count the number of right prediction\n",
    "data_counter = 0 # count the number of data\n",
    "\n",
    "for image,label in test_loader:#the size of image and label depends on BATCH_SIZE\n",
    "    \n",
    "    image = image.reshape(-1,784) #change image's shape so each row is a image \n",
    "\n",
    "    output = model(image.cuda())\n",
    "    \n",
    "    label_list = label.tolist()# turn label to list for comparison with prediction\n",
    "    \n",
    "    data_counter += len(label_list) # the number of test datas\n",
    "    \n",
    "    for i in range(output.shape[0]): # =512\n",
    "        if int(torch.argmax(output[i])) == label_list[i]: # prediction = label\n",
    "            correct_counter += 1 \n",
    "\n",
    "end = time.time()\n",
    "accuracy = correct_counter/data_counter\n",
    "print('accuracy {} time {} datasize {} correctness {}'\n",
    "      .format(accuracy, end-start, data_counter, correct_counter))\n",
    "accuracy, end-start"
   ]
  },
  {
   "cell_type": "code",
   "execution_count": null,
   "id": "f94cc2e0",
   "metadata": {},
   "outputs": [],
   "source": []
  }
 ],
 "metadata": {
  "kernelspec": {
   "display_name": "Python 3 (ipykernel)",
   "language": "python",
   "name": "python3"
  },
  "language_info": {
   "codemirror_mode": {
    "name": "ipython",
    "version": 3
   },
   "file_extension": ".py",
   "mimetype": "text/x-python",
   "name": "python",
   "nbconvert_exporter": "python",
   "pygments_lexer": "ipython3",
   "version": "3.10.10"
  }
 },
 "nbformat": 4,
 "nbformat_minor": 5
}
