{
 "cells": [
  {
   "cell_type": "markdown",
   "id": "ff414703",
   "metadata": {},
   "source": [
    "# Predict y with [x1,x2,x3]\n"
   ]
  },
  {
   "cell_type": "code",
   "execution_count": 31,
   "id": "07879823",
   "metadata": {},
   "outputs": [],
   "source": [
    "import torch\n",
    "import matplotlib as plt"
   ]
  },
  {
   "cell_type": "code",
   "execution_count": 32,
   "id": "a88fd5bc",
   "metadata": {},
   "outputs": [],
   "source": [
    "# our ground truth model is y = w1*x1 + w2*x2 + w3*x3 +b\n",
    "# [w1,w2,w3,b] = [3.5, 6, 2, 1]\n",
    "w = torch.tensor([3.5, 6, 2])\n",
    "b = torch.tensor([1])"
   ]
  },
  {
   "cell_type": "code",
   "execution_count": 60,
   "id": "69be78be",
   "metadata": {},
   "outputs": [
    {
     "data": {
      "text/plain": [
       "torch.Size([1000, 1])"
      ]
     },
     "execution_count": 60,
     "metadata": {},
     "output_type": "execute_result"
    }
   ],
   "source": [
    "# create artificial data\n",
    "noise = torch.randn(1000,1)\n",
    "\n",
    "x = torch.randn(1000,3)\n",
    "y = torch.matmul(x,w).reshape(1000,1) + b + noise # y with noise\n",
    "y.shape"
   ]
  },
  {
   "cell_type": "code",
   "execution_count": 61,
   "id": "a139c980",
   "metadata": {},
   "outputs": [],
   "source": [
    "#our purpose is to learn w and b from data disturbed by noise"
   ]
  },
  {
   "cell_type": "code",
   "execution_count": 69,
   "id": "f59a90aa",
   "metadata": {},
   "outputs": [],
   "source": [
    "# divide our data into train and test set\n",
    "x_train = x[0:500]\n",
    "x_test = x[500:1000]\n",
    "y_train = y[0:500]\n",
    "y_test = y[500:1000]"
   ]
  },
  {
   "cell_type": "code",
   "execution_count": 70,
   "id": "b0edfe29",
   "metadata": {},
   "outputs": [
    {
     "data": {
      "text/plain": [
       "(Parameter containing:\n",
       " tensor([[ 0.0509, -0.4877,  0.1968]], requires_grad=True),\n",
       " Parameter containing:\n",
       " tensor([-0.4735], requires_grad=True))"
      ]
     },
     "execution_count": 70,
     "metadata": {},
     "output_type": "execute_result"
    }
   ],
   "source": [
    "model = torch.nn.Linear(3,1) # linear layer, with 3 of inputs, come out 1 output\n",
    "model.weight, model.bias"
   ]
  },
  {
   "cell_type": "code",
   "execution_count": 71,
   "id": "ad8a7604",
   "metadata": {},
   "outputs": [
    {
     "name": "stdout",
     "output_type": "stream",
     "text": [
      "epoch 0, loss 56.547603607177734\n",
      "epoch 1, loss 29.768810272216797\n",
      "epoch 2, loss 15.53900146484375\n",
      "epoch 3, loss 8.475305557250977\n",
      "epoch 4, loss 5.074153900146484\n",
      "epoch 5, loss 3.154111385345459\n",
      "epoch 6, loss 2.132913589477539\n",
      "epoch 7, loss 1.5691184997558594\n",
      "epoch 8, loss 1.1251182556152344\n",
      "epoch 9, loss 0.8871534466743469\n",
      "epoch 10, loss 0.7648993730545044\n",
      "epoch 11, loss 0.7261290550231934\n",
      "epoch 12, loss 0.7355553507804871\n",
      "epoch 13, loss 0.572250247001648\n",
      "epoch 14, loss 0.7143037915229797\n",
      "epoch 15, loss 0.6578654646873474\n",
      "epoch 16, loss 0.641740083694458\n",
      "epoch 17, loss 0.6274204254150391\n",
      "epoch 18, loss 0.5151606202125549\n",
      "epoch 19, loss 0.6747156381607056\n",
      "epoch 20, loss 0.6184413433074951\n",
      "epoch 21, loss 0.6188164949417114\n",
      "epoch 22, loss 0.6128202676773071\n",
      "epoch 23, loss 0.587618350982666\n",
      "epoch 24, loss 0.5489310622215271\n",
      "epoch 25, loss 0.5152488350868225\n",
      "epoch 26, loss 0.48614948987960815\n",
      "epoch 27, loss 0.4670184254646301\n",
      "epoch 28, loss 0.46842774748802185\n",
      "epoch 29, loss 0.5362428426742554\n",
      "epoch 30, loss 0.5550733804702759\n",
      "epoch 31, loss 0.550585150718689\n",
      "epoch 32, loss 0.5163189172744751\n",
      "epoch 33, loss 0.4915303885936737\n",
      "epoch 34, loss 0.4879545271396637\n",
      "epoch 35, loss 0.557279109954834\n",
      "epoch 36, loss 0.5688261985778809\n",
      "epoch 37, loss 0.5926326513290405\n",
      "epoch 38, loss 0.6181593537330627\n",
      "epoch 39, loss 0.567270040512085\n"
     ]
    }
   ],
   "source": [
    "# train process\n",
    "\n",
    "epochs = 40\n",
    "lr = 0.14 #learning rate\n",
    "criterion = torch.nn.MSELoss()\n",
    "optimizer = torch.optim.SGD(model.parameters(),lr)\n",
    "\n",
    "for epoch in range(epochs):\n",
    "    \n",
    "    optimizer.zero_grad()\n",
    "    \n",
    "    y_pred = model(x_train[epoch:epoch+25])\n",
    "    loss = criterion(y_pred, y_train[epoch:epoch+25])\n",
    "    \n",
    "    loss.backward()\n",
    "    optimizer.step()\n",
    "    \n",
    "    print('epoch {}, loss {}'.format(epoch, loss.item()))\n",
    "    \n",
    "    \n",
    "    "
   ]
  },
  {
   "cell_type": "code",
   "execution_count": 72,
   "id": "e41dfb9d",
   "metadata": {},
   "outputs": [
    {
     "data": {
      "text/plain": [
       "(Parameter containing:\n",
       " tensor([[3.7008, 5.7799, 2.1801]], requires_grad=True),\n",
       " Parameter containing:\n",
       " tensor([1.3947], requires_grad=True))"
      ]
     },
     "execution_count": 72,
     "metadata": {},
     "output_type": "execute_result"
    }
   ],
   "source": [
    "model.weight, model.bias"
   ]
  },
  {
   "cell_type": "code",
   "execution_count": 73,
   "id": "94e3ab77",
   "metadata": {},
   "outputs": [
    {
     "data": {
      "text/plain": [
       "(tensor([3.5000, 6.0000, 2.0000]), tensor([1]))"
      ]
     },
     "execution_count": 73,
     "metadata": {},
     "output_type": "execute_result"
    }
   ],
   "source": [
    "w, b"
   ]
  },
  {
   "cell_type": "markdown",
   "id": "4d67f0ee",
   "metadata": {},
   "source": [
    "# Summary\n",
    "\n"
   ]
  },
  {
   "cell_type": "code",
   "execution_count": null,
   "id": "b92caf33",
   "metadata": {},
   "outputs": [],
   "source": [
    "# The performance would change if epoch and Learning rate is changed, these are hyper-parameters"
   ]
  }
 ],
 "metadata": {
  "kernelspec": {
   "display_name": "Python 3 (ipykernel)",
   "language": "python",
   "name": "python3"
  },
  "language_info": {
   "codemirror_mode": {
    "name": "ipython",
    "version": 3
   },
   "file_extension": ".py",
   "mimetype": "text/x-python",
   "name": "python",
   "nbconvert_exporter": "python",
   "pygments_lexer": "ipython3",
   "version": "3.10.10"
  }
 },
 "nbformat": 4,
 "nbformat_minor": 5
}
